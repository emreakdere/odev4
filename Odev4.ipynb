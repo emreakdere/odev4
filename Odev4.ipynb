{
  "nbformat": 4,
  "nbformat_minor": 0,
  "metadata": {
    "colab": {
      "name": "Odev4.ipynb",
      "provenance": [],
      "authorship_tag": "ABX9TyPc1o2tL7M3JfDdp/nXMO/C",
      "include_colab_link": true
    },
    "kernelspec": {
      "name": "python3",
      "display_name": "Python 3"
    }
  },
  "cells": [
    {
      "cell_type": "markdown",
      "metadata": {
        "id": "view-in-github",
        "colab_type": "text"
      },
      "source": [
        "<a href=\"https://colab.research.google.com/github/emrecanakdere/odev4/blob/master/Odev4.ipynb\" target=\"_parent\"><img src=\"https://colab.research.google.com/assets/colab-badge.svg\" alt=\"Open In Colab\"/></a>"
      ]
    },
    {
      "cell_type": "markdown",
      "metadata": {
        "id": "FGcms6v8ngvk",
        "colab_type": "text"
      },
      "source": [
        "Ödev 4\n",
        "\n",
        "Soru 1: Binomial Tezgahata bulunan 20 balıktan 14'ü çupra, 6'sı lüferdir. Rastgele poşete konulan 10 balıktan 7'sinin çupra olma olasılığı nedir?\n",
        "\n",
        "Çözüm Binomial:\n",
        "n = 10 rastgele konulan balık, p=0.7 tezgahtaki hamsi oranı.\n",
        "picture\n",
        "P(X=7) = C(10,7). (0.7)^7 . (1-0.7)^(10-7)\n",
        "==> C(n,r)=C(10,7) = 120\n",
        "P(X=7) = 120 . 0,0823543 . 0,027 = 0.2668\n",
        "%26,68 olasılıkla 7tanesi çupra olacaktır.\n",
        "\n",
        "Soru 2: Poisson:\n",
        "Bit uzunlugu 10^4 olan bir mesajdaki, herhangi bitin bagımsız olarak bozulma ihtimali 10^-6 dır. Bu mesajın bozulmadan iletilme olasılıgı nedir?\n",
        "\n",
        "Çözüm Poisson:\n",
        "immage\n",
        "Formüle göre:\n",
        "λ = n.p = 10^4 . 10^-6 = 0.01\n",
        "P(X=0) = [(λ^k)/k!].(e^-λ)\n",
        "= [(0.01^0)/0!].(e^-0.01)= 0.99004 = %99"
      ]
    },
    {
      "cell_type": "code",
      "metadata": {
        "id": "xPyqJ6A4nliN",
        "colab_type": "code",
        "colab": {
          "base_uri": "https://localhost:8080/",
          "height": 34
        },
        "outputId": "b73abdf8-1142-4612-c28c-5953fc885290"
      },
      "source": [
        "def fact(n,s=0): # klasik recursive factorial fonksiyonu, s bitirme koşulu\n",
        "    if (n == s):\n",
        "        return 1\n",
        "    else:\n",
        "        return n * fact(n-1,s)\n",
        "\n",
        "def comb(a,b):  # kombinasyon formülü a!/(a-b)!.b!\n",
        "  b=a-b\n",
        "  return fact(a,b)/fact(a-b)\n",
        "\n",
        "tb = 20 #toplam_balik\n",
        "cs = 14 #cupra_sayisi\n",
        "ls = 6  #lufer_sayisi\n",
        "n = 10 #posetteki_balik\n",
        "k = 7   #istenilen_cupra\n",
        "p = cs / tb\n",
        "\n",
        "P_x = comb(n,k)*((p)**k)*((1-p)**(n-k))\n",
        "print(\"Poşette 7 çupra olma olasılığı %\",100*P_x)"
      ],
      "execution_count": 1,
      "outputs": [
        {
          "output_type": "stream",
          "text": [
            "Poşette 7 çupra olma olasılığı % 26.6827932\n"
          ],
          "name": "stdout"
        }
      ]
    },
    {
      "cell_type": "code",
      "metadata": {
        "id": "ObuhtIjHnsba",
        "colab_type": "code",
        "colab": {
          "base_uri": "https://localhost:8080/",
          "height": 34
        },
        "outputId": "bfcf553f-9ae0-4785-a2ea-1cdd8df28dae"
      },
      "source": [
        "import math\n",
        "\n",
        "bit_uzunluk = 10**4\n",
        "p_bozulma = 10**(-6)\n",
        "lamda = bit_uzunluk * p_bozulma\n",
        "x = 0 #hatasız iletilmesi için 0 olmalı\n",
        "\n",
        "P_poisson = ((lamda**x)/(math.factorial(x)) * math.exp(-lamda))\n",
        "print(\"Mesajın hatasız gitme olasılığı %\",100*P_poisson)"
      ],
      "execution_count": 2,
      "outputs": [
        {
          "output_type": "stream",
          "text": [
            "Mesajın hatasız gitme olasılığı % 99.0049833749168\n"
          ],
          "name": "stdout"
        }
      ]
    },
    {
      "cell_type": "code",
      "metadata": {
        "id": "A2_8Cd6anfg9",
        "colab_type": "code",
        "colab": {}
      },
      "source": [
        ""
      ],
      "execution_count": 0,
      "outputs": []
    }
  ]
}